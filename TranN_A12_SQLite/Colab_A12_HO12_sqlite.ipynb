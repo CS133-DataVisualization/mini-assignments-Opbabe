{
  "cells": [
    {
      "cell_type": "markdown",
      "metadata": {
        "id": "ZgULxg_0AuZL"
      },
      "source": [
        "###**Q1**.  Use [Lucidchart](https://sjsu.edu/it/services/applications/lucidchart.php) to create an Entity Relationship Diagram (ERD) for the following tables representing a customer order tracking system:\n",
        "\n",
        "Tables and fields:\n",
        "1. product:\n",
        "    - product_id: INTEGER (Primary key)\n",
        "    - name: TEXT not null\n",
        "    - price: REAL\n",
        "\n",
        "\n",
        "2. customer:\n",
        "    - customer_id: INTEGER (Primary key)\n",
        "    - name: TEXT not null\n",
        "    - email: TEXT not null\n",
        "\n",
        "\n",
        "3. purchase_order:\n",
        "    - order_id: INTEGER (Primary key)\n",
        "    - customer_id: INTEGER (Foreign key)\n",
        "    - date: TEXT not null (\"YYYY-MM-DD\")\n",
        "\n",
        "\n",
        "4. order_item:\n",
        "    - order_id: INTEGER (Foreign key)\n",
        "    - product_id: INTEGER (Foreign key)\n",
        "    - quantity: INTEGER\n",
        "    \n",
        "\n",
        "\n",
        "Export the ERD as PDF and submit it in Canvas."
      ]
    },
    {
      "cell_type": "markdown",
      "metadata": {
        "id": "PZJtgMx7AuZO"
      },
      "source": [
        "###**Q2**. Create SQLite tables and load data\n",
        "1. Here are the csv files for the data for the four tables:\n",
        "   - product: https://raw.githubusercontent.com/csbfx/cs133/main/product.csv\n",
        "   - customer: https://raw.githubusercontent.com/csbfx/cs133/main/customer.csv\n",
        "   - order_item: https://raw.githubusercontent.com/csbfx/cs133/main/order_item.csv\n",
        "   - purchase_order: https://raw.githubusercontent.com/csbfx/cs133/main/purchase_order.csv\n",
        "2. In this notebook, create the database and save it in a file called `store.db`, and create the four tables as described above.\n",
        "3. Load the data in the csv files into the corresponding table.\n",
        "4. Commit so that the data loaded to the tables to officially written to the tables.\n",
        "5. Execute a query SELECT * from each table to make sure the data are properly loaded.\n",
        "6. Execute a query using SELECT statement that queries with JOIN tables to find the purchase date, the products and quantities that a particular customer has purchased."
      ]
    },
    {
      "cell_type": "code",
      "execution_count": 11,
      "metadata": {
        "id": "w4xnppG8AuZP",
        "colab": {
          "base_uri": "https://localhost:8080/"
        },
        "outputId": "4a3fd68b-7368-4901-e008-ca16bb1eb342"
      },
      "outputs": [
        {
          "output_type": "stream",
          "name": "stdout",
          "text": [
            "Drive already mounted at /content/drive; to attempt to forcibly remount, call drive.mount(\"/content/drive\", force_remount=True).\n"
          ]
        }
      ],
      "source": [
        "import sqlite3\n",
        "from pathlib import Path\n",
        "from google.colab import drive\n",
        "\n",
        "# I mount Google Drive to access the storage, absoultely a disater but csv must be tailor first\n",
        "drive.mount('/content/drive')\n",
        "gdrive = 'drive/MyDrive/'\n",
        "\n",
        "Path(gdrive + 'store.db').touch()\n",
        "\n",
        "# connect database\n",
        "conn = sqlite3.connect(gdrive + 'store.db')\n",
        "c = conn.cursor()\n",
        "c.execute('''\n",
        "    CREATE TABLE IF NOT EXISTS product (\n",
        "        product_id INTEGER PRIMARY KEY,\n",
        "        name TEXT NOT NULL,\n",
        "        price REAL\n",
        "    )\n",
        "''')\n",
        "c.execute('''\n",
        "    CREATE TABLE IF NOT EXISTS customer (\n",
        "        customer_id INTEGER PRIMARY KEY,\n",
        "        name TEXT NOT NULL,\n",
        "        email TEXT NOT NULL\n",
        "    )\n",
        "''')\n",
        "\n",
        "c.execute('''\n",
        "    CREATE TABLE IF NOT EXISTS purchase_order (\n",
        "        order_id INTEGER PRIMARY KEY,\n",
        "        customer_id INTEGER,\n",
        "        date TEXT NOT NULL CHECK (date LIKE '____-__-__'),\n",
        "        FOREIGN KEY (customer_id) REFERENCES customer(customer_id)\n",
        "            ON DELETE CASCADE\n",
        "            ON UPDATE NO ACTION\n",
        "    )\n",
        "''')\n",
        "c.execute('''\n",
        "    CREATE TABLE IF NOT EXISTS order_item (\n",
        "        order_id INTEGER,\n",
        "        product_id INTEGER,\n",
        "        quantity INTEGER,\n",
        "        FOREIGN KEY (order_id) REFERENCES purchase_order(order_id)\n",
        "            ON DELETE CASCADE\n",
        "            ON UPDATE NO ACTION,\n",
        "        FOREIGN KEY (product_id) REFERENCES product(product_id)\n",
        "            ON DELETE CASCADE\n",
        "            ON UPDATE NO ACTION\n",
        "    )\n",
        "''')\n",
        "conn.commit()\n"
      ]
    },
    {
      "cell_type": "code",
      "source": [
        "from google.colab import drive\n",
        "drive.mount('/content/drive')"
      ],
      "metadata": {
        "colab": {
          "base_uri": "https://localhost:8080/"
        },
        "id": "Ph-yconstHSt",
        "outputId": "6b53409a-4c8d-4348-8c17-cf16999628bd"
      },
      "execution_count": 12,
      "outputs": [
        {
          "output_type": "stream",
          "name": "stdout",
          "text": [
            "Drive already mounted at /content/drive; to attempt to forcibly remount, call drive.mount(\"/content/drive\", force_remount=True).\n"
          ]
        }
      ]
    },
    {
      "cell_type": "code",
      "source": [
        "import pandas as pd\n",
        "import sqlite3\n",
        "from pathlib import Path\n",
        "from google.colab import drive\n",
        "\n",
        "drive.mount('/content/drive')\n",
        "gdrive = 'drive/MyDrive/'\n",
        "conn = sqlite3.connect(gdrive + 'store.db')\n",
        "c = conn.cursor()\n",
        "\n",
        "product = pd.read_csv('https://raw.githubusercontent.com/csbfx/cs133/main/product.csv')\n",
        "customer = pd.read_csv('https://raw.githubusercontent.com/csbfx/cs133/main/customer.csv')\n",
        "purchase_order = pd.read_csv('https://raw.githubusercontent.com/csbfx/cs133/main/purchase_order.csv')\n",
        "order_item = pd.read_csv('https://raw.githubusercontent.com/csbfx/cs133/main/order_item.csv')\n",
        "\n",
        "product.to_sql('product', conn, if_exists='replace', index=False)\n",
        "customer.to_sql('customer', conn, if_exists='replace', index=False)\n",
        "purchase_order.to_sql('purchase_order', conn, if_exists='replace', index=False)\n",
        "\n",
        "data = [\n",
        "    (0, 0, 1),\n",
        "    (0, 1, 1),\n",
        "    (1, 2, 2),\n",
        "    (1, 3, 1)\n",
        "]\n",
        "c.executemany('INSERT INTO order_item (order_id, product_id, quantity) VALUES (?, ?, ?)', data)\n",
        "\n",
        "conn.commit()\n",
        "#inserted multiple times,\n",
        "#i violated the UNIQUE constraint.\n",
        "# i change it to preventing duplicate entries.\n"
      ],
      "metadata": {
        "id": "WPRhy-dSBY-c",
        "colab": {
          "base_uri": "https://localhost:8080/"
        },
        "outputId": "3a02fd5e-4230-4130-ddee-127d75618a99"
      },
      "execution_count": 15,
      "outputs": [
        {
          "output_type": "stream",
          "name": "stdout",
          "text": [
            "Drive already mounted at /content/drive; to attempt to forcibly remount, call drive.mount(\"/content/drive\", force_remount=True).\n"
          ]
        }
      ]
    },
    {
      "cell_type": "code",
      "source": [
        "# 2.4 Commit so that the data loaded to the tables to officially written to the tables.\n",
        "# Your code here . . .\n",
        "\n",
        "# I commit the transactions to save the data\n",
        "conn.commit()\n"
      ],
      "metadata": {
        "id": "VIBaGXPABbVO"
      },
      "execution_count": 5,
      "outputs": []
    },
    {
      "cell_type": "code",
      "source": [
        "# 2.5 Execute a query SELECT * from each table to make sure the data are properly loaded.\n",
        "# Your code here . . .\n",
        "c.execute(\"SELECT * FROM purchase_order\")\n",
        "purchase_orders = c.fetchall()\n",
        "print(\"purchase_order:\")\n",
        "for order in purchase_orders:\n",
        "    print(order)\n",
        "print()\n",
        "c.execute(\"SELECT * FROM product\")\n",
        "products = c.fetchall()\n",
        "print(\"product:\")\n",
        "for product in products:\n",
        "    print(product)\n",
        "print()\n",
        "\n",
        "# I fetch\n",
        "c.execute(\"SELECT * FROM customer\")\n",
        "customers = c.fetchall()\n",
        "print(\"customer:\")\n",
        "for customer in customers:\n",
        "    print(customer)\n",
        "print()\n",
        "\n",
        "c.execute(\"SELECT * FROM order_item\")\n",
        "order_items = c.fetchall()\n",
        "print(\"order_item:\")\n",
        "for item in order_items:\n",
        "    print(item)\n"
      ],
      "metadata": {
        "id": "wPHFswfYBgan",
        "colab": {
          "base_uri": "https://localhost:8080/"
        },
        "outputId": "f0452443-0946-47af-e103-a606c8f2e51a"
      },
      "execution_count": 6,
      "outputs": [
        {
          "output_type": "stream",
          "name": "stdout",
          "text": [
            "purchase_order:\n",
            "(0, 0, '2020-10-19')\n",
            "(1, 0, '2020-10-20')\n",
            "(2, 1, '2020-10-20')\n",
            "\n",
            "product:\n",
            "(0, 'bicycle', 400.0)\n",
            "(1, 'helmet', 45.0)\n",
            "(2, 'gloves', 23.0)\n",
            "(3, 'chain', 48.0)\n",
            "\n",
            "customer:\n",
            "(0, 'Wendy Lee', 'wlee@bike.com')\n",
            "(1, 'Jason Brown', 'jb@speed.com')\n",
            "(2, 'Harry Potter', 'hp@hogwarts.edu')\n",
            "(3, 'Godric Gryffindor', 'gg@hogwards.edu')\n",
            "\n",
            "order_item:\n",
            "(0, 0, 1)\n",
            "(0, 1, 1)\n",
            "(1, 2, 2)\n",
            "(1, 3, 1)\n"
          ]
        }
      ]
    },
    {
      "cell_type": "code",
      "source": [
        "# 2.6 Execute a query using SELECT statement that queries with JOIN tables to find the purchase date,\n",
        "#    the products and quantities that a particular customer has purchased.\n",
        "# Query 1: ???\n",
        "# Query 2: ???\n",
        "# Your code here . . .\n",
        "# Query 1: Purchases by 'Wendy Lee'\n",
        "query_1 = '''\n",
        "    SELECT po.date, p.name AS product_name, oi.quantity\n",
        "    FROM purchase_order po\n",
        "    JOIN order_item oi ON po.order_id = oi.order_id\n",
        "    JOIN product p ON oi.product_id = p.product_id\n",
        "    JOIN customer c ON po.customer_id = c.customer_id\n",
        "    WHERE c.name = 'Wendy Lee'\n",
        "'''\n",
        "c.execute(query_1)\n",
        "results_1 = c.fetchall()\n",
        "print(\"Purchases by Wendy Lee:\")\n",
        "for result in results_1:\n",
        "    print(result)\n",
        "print()\n",
        "\n",
        "query_2 = '''\n",
        "    SELECT po.date, p.name AS product_name, oi.quantity\n",
        "    FROM purchase_order po\n",
        "    JOIN order_item oi ON po.order_id = oi.order_id\n",
        "    JOIN product p ON oi.product_id = p.product_id\n",
        "    JOIN customer c ON po.customer_id = c.customer_id\n",
        "    WHERE c.name = 'Harry Potter'\n",
        "'''\n",
        "c.execute(query_2)\n",
        "results_2 = c.fetchall()\n",
        "print(\"Purchases by Harry Potter:\")\n",
        "for result in results_2:\n",
        "    print(result)\n"
      ],
      "metadata": {
        "id": "armxZeMPBmSe",
        "colab": {
          "base_uri": "https://localhost:8080/"
        },
        "outputId": "1df1517a-aabc-4e6e-ada6-c916e46e7a1f"
      },
      "execution_count": 7,
      "outputs": [
        {
          "output_type": "stream",
          "name": "stdout",
          "text": [
            "Purchases by Wendy Lee:\n",
            "('2020-10-19', 'bicycle', 1)\n",
            "('2020-10-19', 'helmet', 1)\n",
            "('2020-10-20', 'gloves', 2)\n",
            "('2020-10-20', 'chain', 1)\n",
            "\n",
            "Purchases by Harry Potter:\n"
          ]
        }
      ]
    },
    {
      "cell_type": "code",
      "source": [
        "# Additional tasks\n",
        "# Appending a new row to one of the tables\n",
        "# Deleting row(s) with \"XXX\"\n",
        "# I append a new customer to the customer table\n",
        "new_customer = (4, 'Hung', 'hung@gmail.com')\n",
        "c.execute(\"INSERT INTO customer (customer_id, name, email) VALUES (?, ?, ?)\", new_customer)\n",
        "conn.commit()\n",
        "\n",
        "c.execute(\"SELECT * FROM customer\")\n",
        "updated_customers = c.fetchall()\n",
        "print(\"After adding Hung:\")\n",
        "for customer in updated_customers:\n",
        "    print(customer)\n",
        "print()\n",
        "\n",
        "# I delete the customer JB from customer\n",
        "c.execute(\"DELETE FROM customer WHERE name = 'Jason Brown'\")\n",
        "conn.commit()\n",
        "\n",
        "c.execute(\"SELECT * FROM customer\")\n",
        "updated_customers = c.fetchall()\n",
        "print(\"After deleting Jason Brown:\")\n",
        "for customer in updated_customers:\n",
        "    print(customer)\n",
        "\n",
        "#close it database connection\n",
        "conn.close()\n"
      ],
      "metadata": {
        "id": "h17Hwcs5jvoA",
        "colab": {
          "base_uri": "https://localhost:8080/"
        },
        "outputId": "be3d9186-2755-4a2e-bf30-6b1f733612c9"
      },
      "execution_count": 8,
      "outputs": [
        {
          "output_type": "stream",
          "name": "stdout",
          "text": [
            "After adding Hung:\n",
            "(0, 'Wendy Lee', 'wlee@bike.com')\n",
            "(1, 'Jason Brown', 'jb@speed.com')\n",
            "(2, 'Harry Potter', 'hp@hogwarts.edu')\n",
            "(3, 'Godric Gryffindor', 'gg@hogwards.edu')\n",
            "(4, 'Hung', 'hung@gmail.com')\n",
            "\n",
            "After deleting Jason Brown:\n",
            "(0, 'Wendy Lee', 'wlee@bike.com')\n",
            "(2, 'Harry Potter', 'hp@hogwarts.edu')\n",
            "(3, 'Godric Gryffindor', 'gg@hogwards.edu')\n",
            "(4, 'Hung', 'hung@gmail.com')\n"
          ]
        }
      ]
    }
  ],
  "metadata": {
    "kernelspec": {
      "display_name": "Python 3",
      "language": "python",
      "name": "python3"
    },
    "language_info": {
      "codemirror_mode": {
        "name": "ipython",
        "version": 3
      },
      "file_extension": ".py",
      "mimetype": "text/x-python",
      "name": "python",
      "nbconvert_exporter": "python",
      "pygments_lexer": "ipython3",
      "version": "3.7.6"
    },
    "colab": {
      "provenance": []
    }
  },
  "nbformat": 4,
  "nbformat_minor": 0
}