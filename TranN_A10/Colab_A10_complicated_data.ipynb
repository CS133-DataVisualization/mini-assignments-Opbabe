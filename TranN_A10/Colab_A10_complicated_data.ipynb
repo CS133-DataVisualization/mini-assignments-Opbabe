{
  "cells": [
    {
      "cell_type": "markdown",
      "metadata": {
        "id": "-AqiLKPR3r6d"
      },
      "source": [
        "# Working with complicated dataset"
      ]
    },
    {
      "cell_type": "markdown",
      "source": [
        "Your name:"
      ],
      "metadata": {
        "id": "uZ0oeT3-S5iq"
      }
    },
    {
      "cell_type": "markdown",
      "metadata": {
        "id": "tio0jU9Y3r6h"
      },
      "source": [
        "### Question 1\n",
        "\n",
        "blast_results: https://raw.githubusercontent.com/csbfx/advpy122-data/master/blast_results.csv\n",
        "\n",
        "Read in the data from the csv file above. Skip all the comment lines, create a header for the dataframe based on the fields list in the comment line that starts with **# Fields:**. Drop the first column `query acc.ver`. Set the `subject acc.ver` as the index of the dataframe. The last column of the dataframe should be `publications`. Show the first five rows of the resulting dataframe."
      ]
    },
    {
      "cell_type": "code",
      "execution_count": 59,
      "metadata": {
        "id": "zkhws8KT3r6i",
        "colab": {
          "base_uri": "https://localhost:8080/",
          "height": 238
        },
        "outputId": "c2d84c7c-771f-47f5-fd11-a86e29f989c4"
      },
      "outputs": [
        {
          "output_type": "execute_result",
          "data": {
            "text/plain": [
              "                 % identity  alignment length  mismatches  gap opens  \\\n",
              "subject acc.ver                                                        \n",
              "NP_904328.1         100.000               318           0          0   \n",
              "AGK29621.1           99.686               318           1          0   \n",
              "YP_220563.1          99.686               318           1          0   \n",
              "ACM24502.1           99.686               318           1          0   \n",
              "AHG32084.1           99.371               318           2          0   \n",
              "\n",
              "                 q. start  q. end  s. start  s. end  evalue  bit score  \\\n",
              "subject acc.ver                                                          \n",
              "NP_904328.1             1     318         1     318       0        629   \n",
              "AGK29621.1              1     318         1     318       0        629   \n",
              "YP_220563.1             1     318         1     318       0        627   \n",
              "ACM24502.1              1     318         1     318       0        627   \n",
              "AHG32084.1              1     318         1     318       0        627   \n",
              "\n",
              "                 % positives     bonds  publications  \n",
              "subject acc.ver                                       \n",
              "NP_904328.1           100.00    1,487            9.0  \n",
              "AGK29621.1            100.00   17,947           47.0  \n",
              "YP_220563.1           100.00   12,106           13.0  \n",
              "ACM24502.1             99.69    2,319           41.0  \n",
              "AHG32084.1            100.00   18,964            3.0  "
            ],
            "text/html": [
              "\n",
              "  <div id=\"df-000cc92f-26ba-4e53-afa9-5813e625cfef\" class=\"colab-df-container\">\n",
              "    <div>\n",
              "<style scoped>\n",
              "    .dataframe tbody tr th:only-of-type {\n",
              "        vertical-align: middle;\n",
              "    }\n",
              "\n",
              "    .dataframe tbody tr th {\n",
              "        vertical-align: top;\n",
              "    }\n",
              "\n",
              "    .dataframe thead th {\n",
              "        text-align: right;\n",
              "    }\n",
              "</style>\n",
              "<table border=\"1\" class=\"dataframe\">\n",
              "  <thead>\n",
              "    <tr style=\"text-align: right;\">\n",
              "      <th></th>\n",
              "      <th>% identity</th>\n",
              "      <th>alignment length</th>\n",
              "      <th>mismatches</th>\n",
              "      <th>gap opens</th>\n",
              "      <th>q. start</th>\n",
              "      <th>q. end</th>\n",
              "      <th>s. start</th>\n",
              "      <th>s. end</th>\n",
              "      <th>evalue</th>\n",
              "      <th>bit score</th>\n",
              "      <th>% positives</th>\n",
              "      <th>bonds</th>\n",
              "      <th>publications</th>\n",
              "    </tr>\n",
              "    <tr>\n",
              "      <th>subject acc.ver</th>\n",
              "      <th></th>\n",
              "      <th></th>\n",
              "      <th></th>\n",
              "      <th></th>\n",
              "      <th></th>\n",
              "      <th></th>\n",
              "      <th></th>\n",
              "      <th></th>\n",
              "      <th></th>\n",
              "      <th></th>\n",
              "      <th></th>\n",
              "      <th></th>\n",
              "      <th></th>\n",
              "    </tr>\n",
              "  </thead>\n",
              "  <tbody>\n",
              "    <tr>\n",
              "      <th>NP_904328.1</th>\n",
              "      <td>100.000</td>\n",
              "      <td>318</td>\n",
              "      <td>0</td>\n",
              "      <td>0</td>\n",
              "      <td>1</td>\n",
              "      <td>318</td>\n",
              "      <td>1</td>\n",
              "      <td>318</td>\n",
              "      <td>0</td>\n",
              "      <td>629</td>\n",
              "      <td>100.00</td>\n",
              "      <td>1,487</td>\n",
              "      <td>9.0</td>\n",
              "    </tr>\n",
              "    <tr>\n",
              "      <th>AGK29621.1</th>\n",
              "      <td>99.686</td>\n",
              "      <td>318</td>\n",
              "      <td>1</td>\n",
              "      <td>0</td>\n",
              "      <td>1</td>\n",
              "      <td>318</td>\n",
              "      <td>1</td>\n",
              "      <td>318</td>\n",
              "      <td>0</td>\n",
              "      <td>629</td>\n",
              "      <td>100.00</td>\n",
              "      <td>17,947</td>\n",
              "      <td>47.0</td>\n",
              "    </tr>\n",
              "    <tr>\n",
              "      <th>YP_220563.1</th>\n",
              "      <td>99.686</td>\n",
              "      <td>318</td>\n",
              "      <td>1</td>\n",
              "      <td>0</td>\n",
              "      <td>1</td>\n",
              "      <td>318</td>\n",
              "      <td>1</td>\n",
              "      <td>318</td>\n",
              "      <td>0</td>\n",
              "      <td>627</td>\n",
              "      <td>100.00</td>\n",
              "      <td>12,106</td>\n",
              "      <td>13.0</td>\n",
              "    </tr>\n",
              "    <tr>\n",
              "      <th>ACM24502.1</th>\n",
              "      <td>99.686</td>\n",
              "      <td>318</td>\n",
              "      <td>1</td>\n",
              "      <td>0</td>\n",
              "      <td>1</td>\n",
              "      <td>318</td>\n",
              "      <td>1</td>\n",
              "      <td>318</td>\n",
              "      <td>0</td>\n",
              "      <td>627</td>\n",
              "      <td>99.69</td>\n",
              "      <td>2,319</td>\n",
              "      <td>41.0</td>\n",
              "    </tr>\n",
              "    <tr>\n",
              "      <th>AHG32084.1</th>\n",
              "      <td>99.371</td>\n",
              "      <td>318</td>\n",
              "      <td>2</td>\n",
              "      <td>0</td>\n",
              "      <td>1</td>\n",
              "      <td>318</td>\n",
              "      <td>1</td>\n",
              "      <td>318</td>\n",
              "      <td>0</td>\n",
              "      <td>627</td>\n",
              "      <td>100.00</td>\n",
              "      <td>18,964</td>\n",
              "      <td>3.0</td>\n",
              "    </tr>\n",
              "  </tbody>\n",
              "</table>\n",
              "</div>\n",
              "    <div class=\"colab-df-buttons\">\n",
              "\n",
              "  <div class=\"colab-df-container\">\n",
              "    <button class=\"colab-df-convert\" onclick=\"convertToInteractive('df-000cc92f-26ba-4e53-afa9-5813e625cfef')\"\n",
              "            title=\"Convert this dataframe to an interactive table.\"\n",
              "            style=\"display:none;\">\n",
              "\n",
              "  <svg xmlns=\"http://www.w3.org/2000/svg\" height=\"24px\" viewBox=\"0 -960 960 960\">\n",
              "    <path d=\"M120-120v-720h720v720H120Zm60-500h600v-160H180v160Zm220 220h160v-160H400v160Zm0 220h160v-160H400v160ZM180-400h160v-160H180v160Zm440 0h160v-160H620v160ZM180-180h160v-160H180v160Zm440 0h160v-160H620v160Z\"/>\n",
              "  </svg>\n",
              "    </button>\n",
              "\n",
              "  <style>\n",
              "    .colab-df-container {\n",
              "      display:flex;\n",
              "      gap: 12px;\n",
              "    }\n",
              "\n",
              "    .colab-df-convert {\n",
              "      background-color: #E8F0FE;\n",
              "      border: none;\n",
              "      border-radius: 50%;\n",
              "      cursor: pointer;\n",
              "      display: none;\n",
              "      fill: #1967D2;\n",
              "      height: 32px;\n",
              "      padding: 0 0 0 0;\n",
              "      width: 32px;\n",
              "    }\n",
              "\n",
              "    .colab-df-convert:hover {\n",
              "      background-color: #E2EBFA;\n",
              "      box-shadow: 0px 1px 2px rgba(60, 64, 67, 0.3), 0px 1px 3px 1px rgba(60, 64, 67, 0.15);\n",
              "      fill: #174EA6;\n",
              "    }\n",
              "\n",
              "    .colab-df-buttons div {\n",
              "      margin-bottom: 4px;\n",
              "    }\n",
              "\n",
              "    [theme=dark] .colab-df-convert {\n",
              "      background-color: #3B4455;\n",
              "      fill: #D2E3FC;\n",
              "    }\n",
              "\n",
              "    [theme=dark] .colab-df-convert:hover {\n",
              "      background-color: #434B5C;\n",
              "      box-shadow: 0px 1px 3px 1px rgba(0, 0, 0, 0.15);\n",
              "      filter: drop-shadow(0px 1px 2px rgba(0, 0, 0, 0.3));\n",
              "      fill: #FFFFFF;\n",
              "    }\n",
              "  </style>\n",
              "\n",
              "    <script>\n",
              "      const buttonEl =\n",
              "        document.querySelector('#df-000cc92f-26ba-4e53-afa9-5813e625cfef button.colab-df-convert');\n",
              "      buttonEl.style.display =\n",
              "        google.colab.kernel.accessAllowed ? 'block' : 'none';\n",
              "\n",
              "      async function convertToInteractive(key) {\n",
              "        const element = document.querySelector('#df-000cc92f-26ba-4e53-afa9-5813e625cfef');\n",
              "        const dataTable =\n",
              "          await google.colab.kernel.invokeFunction('convertToInteractive',\n",
              "                                                    [key], {});\n",
              "        if (!dataTable) return;\n",
              "\n",
              "        const docLinkHtml = 'Like what you see? Visit the ' +\n",
              "          '<a target=\"_blank\" href=https://colab.research.google.com/notebooks/data_table.ipynb>data table notebook</a>'\n",
              "          + ' to learn more about interactive tables.';\n",
              "        element.innerHTML = '';\n",
              "        dataTable['output_type'] = 'display_data';\n",
              "        await google.colab.output.renderOutput(dataTable, element);\n",
              "        const docLink = document.createElement('div');\n",
              "        docLink.innerHTML = docLinkHtml;\n",
              "        element.appendChild(docLink);\n",
              "      }\n",
              "    </script>\n",
              "  </div>\n",
              "\n",
              "\n",
              "<div id=\"df-b8eead38-9b68-4364-a339-fc20ee92771d\">\n",
              "  <button class=\"colab-df-quickchart\" onclick=\"quickchart('df-b8eead38-9b68-4364-a339-fc20ee92771d')\"\n",
              "            title=\"Suggest charts\"\n",
              "            style=\"display:none;\">\n",
              "\n",
              "<svg xmlns=\"http://www.w3.org/2000/svg\" height=\"24px\"viewBox=\"0 0 24 24\"\n",
              "     width=\"24px\">\n",
              "    <g>\n",
              "        <path d=\"M19 3H5c-1.1 0-2 .9-2 2v14c0 1.1.9 2 2 2h14c1.1 0 2-.9 2-2V5c0-1.1-.9-2-2-2zM9 17H7v-7h2v7zm4 0h-2V7h2v10zm4 0h-2v-4h2v4z\"/>\n",
              "    </g>\n",
              "</svg>\n",
              "  </button>\n",
              "\n",
              "<style>\n",
              "  .colab-df-quickchart {\n",
              "      --bg-color: #E8F0FE;\n",
              "      --fill-color: #1967D2;\n",
              "      --hover-bg-color: #E2EBFA;\n",
              "      --hover-fill-color: #174EA6;\n",
              "      --disabled-fill-color: #AAA;\n",
              "      --disabled-bg-color: #DDD;\n",
              "  }\n",
              "\n",
              "  [theme=dark] .colab-df-quickchart {\n",
              "      --bg-color: #3B4455;\n",
              "      --fill-color: #D2E3FC;\n",
              "      --hover-bg-color: #434B5C;\n",
              "      --hover-fill-color: #FFFFFF;\n",
              "      --disabled-bg-color: #3B4455;\n",
              "      --disabled-fill-color: #666;\n",
              "  }\n",
              "\n",
              "  .colab-df-quickchart {\n",
              "    background-color: var(--bg-color);\n",
              "    border: none;\n",
              "    border-radius: 50%;\n",
              "    cursor: pointer;\n",
              "    display: none;\n",
              "    fill: var(--fill-color);\n",
              "    height: 32px;\n",
              "    padding: 0;\n",
              "    width: 32px;\n",
              "  }\n",
              "\n",
              "  .colab-df-quickchart:hover {\n",
              "    background-color: var(--hover-bg-color);\n",
              "    box-shadow: 0 1px 2px rgba(60, 64, 67, 0.3), 0 1px 3px 1px rgba(60, 64, 67, 0.15);\n",
              "    fill: var(--button-hover-fill-color);\n",
              "  }\n",
              "\n",
              "  .colab-df-quickchart-complete:disabled,\n",
              "  .colab-df-quickchart-complete:disabled:hover {\n",
              "    background-color: var(--disabled-bg-color);\n",
              "    fill: var(--disabled-fill-color);\n",
              "    box-shadow: none;\n",
              "  }\n",
              "\n",
              "  .colab-df-spinner {\n",
              "    border: 2px solid var(--fill-color);\n",
              "    border-color: transparent;\n",
              "    border-bottom-color: var(--fill-color);\n",
              "    animation:\n",
              "      spin 1s steps(1) infinite;\n",
              "  }\n",
              "\n",
              "  @keyframes spin {\n",
              "    0% {\n",
              "      border-color: transparent;\n",
              "      border-bottom-color: var(--fill-color);\n",
              "      border-left-color: var(--fill-color);\n",
              "    }\n",
              "    20% {\n",
              "      border-color: transparent;\n",
              "      border-left-color: var(--fill-color);\n",
              "      border-top-color: var(--fill-color);\n",
              "    }\n",
              "    30% {\n",
              "      border-color: transparent;\n",
              "      border-left-color: var(--fill-color);\n",
              "      border-top-color: var(--fill-color);\n",
              "      border-right-color: var(--fill-color);\n",
              "    }\n",
              "    40% {\n",
              "      border-color: transparent;\n",
              "      border-right-color: var(--fill-color);\n",
              "      border-top-color: var(--fill-color);\n",
              "    }\n",
              "    60% {\n",
              "      border-color: transparent;\n",
              "      border-right-color: var(--fill-color);\n",
              "    }\n",
              "    80% {\n",
              "      border-color: transparent;\n",
              "      border-right-color: var(--fill-color);\n",
              "      border-bottom-color: var(--fill-color);\n",
              "    }\n",
              "    90% {\n",
              "      border-color: transparent;\n",
              "      border-bottom-color: var(--fill-color);\n",
              "    }\n",
              "  }\n",
              "</style>\n",
              "\n",
              "  <script>\n",
              "    async function quickchart(key) {\n",
              "      const quickchartButtonEl =\n",
              "        document.querySelector('#' + key + ' button');\n",
              "      quickchartButtonEl.disabled = true;  // To prevent multiple clicks.\n",
              "      quickchartButtonEl.classList.add('colab-df-spinner');\n",
              "      try {\n",
              "        const charts = await google.colab.kernel.invokeFunction(\n",
              "            'suggestCharts', [key], {});\n",
              "      } catch (error) {\n",
              "        console.error('Error during call to suggestCharts:', error);\n",
              "      }\n",
              "      quickchartButtonEl.classList.remove('colab-df-spinner');\n",
              "      quickchartButtonEl.classList.add('colab-df-quickchart-complete');\n",
              "    }\n",
              "    (() => {\n",
              "      let quickchartButtonEl =\n",
              "        document.querySelector('#df-b8eead38-9b68-4364-a339-fc20ee92771d button');\n",
              "      quickchartButtonEl.style.display =\n",
              "        google.colab.kernel.accessAllowed ? 'block' : 'none';\n",
              "    })();\n",
              "  </script>\n",
              "</div>\n",
              "\n",
              "    </div>\n",
              "  </div>\n"
            ],
            "application/vnd.google.colaboratory.intrinsic+json": {
              "type": "dataframe",
              "variable_name": "df",
              "summary": "{\n  \"name\": \"df\",\n  \"rows\": 100,\n  \"fields\": [\n    {\n      \"column\": \"subject acc.ver\",\n      \"properties\": {\n        \"dtype\": \"string\",\n        \"num_unique_values\": 100,\n        \"samples\": [\n          \"YP_009414208.1\",\n          \"ASM92819.1\",\n          \"ADU78207.1\"\n        ],\n        \"semantic_type\": \"\",\n        \"description\": \"\"\n      }\n    },\n    {\n      \"column\": \"% identity\",\n      \"properties\": {\n        \"dtype\": \"number\",\n        \"std\": 4.282019911009618,\n        \"min\": 84.543,\n        \"max\": 100.0,\n        \"num_unique_values\": 46,\n        \"samples\": [\n          93.082,\n          91.824,\n          91.509\n        ],\n        \"semantic_type\": \"\",\n        \"description\": \"\"\n      }\n    },\n    {\n      \"column\": \"alignment length\",\n      \"properties\": {\n        \"dtype\": \"number\",\n        \"std\": 0,\n        \"min\": 315,\n        \"max\": 318,\n        \"num_unique_values\": 4,\n        \"samples\": [\n          317,\n          316,\n          318\n        ],\n        \"semantic_type\": \"\",\n        \"description\": \"\"\n      }\n    },\n    {\n      \"column\": \"mismatches\",\n      \"properties\": {\n        \"dtype\": \"number\",\n        \"std\": 13,\n        \"min\": 0,\n        \"max\": 49,\n        \"num_unique_values\": 35,\n        \"samples\": [\n          33,\n          19,\n          28\n        ],\n        \"semantic_type\": \"\",\n        \"description\": \"\"\n      }\n    },\n    {\n      \"column\": \"gap opens\",\n      \"properties\": {\n        \"dtype\": \"number\",\n        \"std\": 0,\n        \"min\": 0,\n        \"max\": 1,\n        \"num_unique_values\": 2,\n        \"samples\": [\n          1,\n          0\n        ],\n        \"semantic_type\": \"\",\n        \"description\": \"\"\n      }\n    },\n    {\n      \"column\": \"q. start\",\n      \"properties\": {\n        \"dtype\": \"number\",\n        \"std\": 0,\n        \"min\": 1,\n        \"max\": 4,\n        \"num_unique_values\": 4,\n        \"samples\": [\n          2,\n          3\n        ],\n        \"semantic_type\": \"\",\n        \"description\": \"\"\n      }\n    },\n    {\n      \"column\": \"q. end\",\n      \"properties\": {\n        \"dtype\": \"number\",\n        \"std\": 0,\n        \"min\": 316,\n        \"max\": 318,\n        \"num_unique_values\": 3,\n        \"samples\": [\n          318,\n          317\n        ],\n        \"semantic_type\": \"\",\n        \"description\": \"\"\n      }\n    },\n    {\n      \"column\": \"s. start\",\n      \"properties\": {\n        \"dtype\": \"number\",\n        \"std\": 0,\n        \"min\": 1,\n        \"max\": 4,\n        \"num_unique_values\": 3,\n        \"samples\": [\n          1,\n          2\n        ],\n        \"semantic_type\": \"\",\n        \"description\": \"\"\n      }\n    },\n    {\n      \"column\": \"s. end\",\n      \"properties\": {\n        \"dtype\": \"number\",\n        \"std\": 0,\n        \"min\": 312,\n        \"max\": 319,\n        \"num_unique_values\": 6,\n        \"samples\": [\n          318,\n          317\n        ],\n        \"semantic_type\": \"\",\n        \"description\": \"\"\n      }\n    },\n    {\n      \"column\": \"evalue\",\n      \"properties\": {\n        \"dtype\": \"number\",\n        \"std\": 0,\n        \"min\": 0,\n        \"max\": 0,\n        \"num_unique_values\": 1,\n        \"samples\": [\n          0\n        ],\n        \"semantic_type\": \"\",\n        \"description\": \"\"\n      }\n    },\n    {\n      \"column\": \"bit score\",\n      \"properties\": {\n        \"dtype\": \"number\",\n        \"std\": 27,\n        \"min\": 551,\n        \"max\": 629,\n        \"num_unique_values\": 46,\n        \"samples\": [\n          557\n        ],\n        \"semantic_type\": \"\",\n        \"description\": \"\"\n      }\n    },\n    {\n      \"column\": \"% positives\",\n      \"properties\": {\n        \"dtype\": \"number\",\n        \"std\": 1.7432048622922076,\n        \"min\": 93.69,\n        \"max\": 100.0,\n        \"num_unique_values\": 25,\n        \"samples\": [\n          97.79\n        ],\n        \"semantic_type\": \"\",\n        \"description\": \"\"\n      }\n    },\n    {\n      \"column\": \"bonds\",\n      \"properties\": {\n        \"dtype\": \"string\",\n        \"num_unique_values\": 100,\n        \"samples\": [\n          \" 10,226 \"\n        ],\n        \"semantic_type\": \"\",\n        \"description\": \"\"\n      }\n    },\n    {\n      \"column\": \"publications\",\n      \"properties\": {\n        \"dtype\": \"number\",\n        \"std\": 15.142032314444576,\n        \"min\": 3.0,\n        \"max\": 52.0,\n        \"num_unique_values\": 45,\n        \"samples\": [\n          25.0\n        ],\n        \"semantic_type\": \"\",\n        \"description\": \"\"\n      }\n    }\n  ]\n}"
            }
          },
          "metadata": {},
          "execution_count": 59
        }
      ],
      "source": [
        "import pandas as pd\n",
        "\n",
        "# I load the dataset and define the columns\n",
        "cols = [\n",
        "    \"query acc.ver\", \"subject acc.ver\", \"% identity\", \"alignment length\",\n",
        "    \"mismatches\", \"gap opens\", \"q. start\", \"q. end\", \"s. start\", \"s. end\",\n",
        "    \"evalue\", \"bit score\", \"% positives\", \"bonds\", \"publications\"\n",
        "]\n",
        "df = pd.read_csv(\n",
        "    \"https://raw.githubusercontent.com/csbfx/advpy122-data/master/blast_results.csv\",\n",
        "    na_values=['-', 'missing'],\n",
        "\n",
        "    comment=\"#\",\n",
        "\n",
        "    header=None,\n",
        "    names=cols,\n",
        "    skiprows=7,\n",
        "    usecols=cols,\n",
        "    engine='python'\n",
        ")\n",
        "df.drop(columns=[\"query acc.ver\"], inplace=True)\n",
        "df.set_index('subject acc.ver', inplace=True)\n",
        "df.head()\n"
      ]
    },
    {
      "cell_type": "markdown",
      "metadata": {
        "id": "aHNeMncr3r6j"
      },
      "source": [
        "### Question 2\n",
        "What is the average number of publications?"
      ]
    },
    {
      "cell_type": "code",
      "execution_count": 16,
      "metadata": {
        "id": "Q1JK-hYw3r6j",
        "colab": {
          "base_uri": "https://localhost:8080/"
        },
        "outputId": "c31da2ba-65d7-4672-eff5-874513322f15"
      },
      "outputs": [
        {
          "output_type": "execute_result",
          "data": {
            "text/plain": [
              "26.989690721649485"
            ]
          },
          "metadata": {},
          "execution_count": 16
        }
      ],
      "source": [
        "average_publicatios = pd.to_numeric(blast['publications'], errors='coerce')\n",
        "average_publicatios.mean()"
      ]
    },
    {
      "cell_type": "markdown",
      "metadata": {
        "id": "r4gRR96y3r6k"
      },
      "source": [
        "### Question 3\n",
        "List the `subject acc.ver` that has over 15,000 bonds."
      ]
    },
    {
      "cell_type": "code",
      "source": [
        "import pandas as pd\n",
        "\n",
        "cols = [\n",
        "    \"query acc.ver\", \"subject acc.ver\", \"% identity\", \"alignment length\",\n",
        "    \"mismatches\", \"gap opens\", \"q. start\", \"q. end\", \"s. start\", \"s. end\",\n",
        "    \"evalue\", \"bit score\", \"% positives\", \"bonds\", \"publications\"\n",
        "]\n",
        "df = pd.read_csv(\n",
        "    \"https://raw.githubusercontent.com/csbfx/advpy122-data/master/blast_results.csv\",\n",
        "    na_values=['-', 'missing'],\n",
        "    comment=\"#\",\n",
        "    header=None,\n",
        "    names=cols,\n",
        "    skiprows=7,\n",
        "    usecols=cols,\n",
        "    engine='python'\n",
        ")\n"
      ],
      "metadata": {
        "id": "IXILp1o_d__O"
      },
      "execution_count": 50,
      "outputs": []
    },
    {
      "cell_type": "code",
      "execution_count": 51,
      "metadata": {
        "id": "pLKiddab3r6k",
        "colab": {
          "base_uri": "https://localhost:8080/"
        },
        "outputId": "dc5bdd4f-8a58-4fd3-fb45-16f3fa8a7f92"
      },
      "outputs": [
        {
          "output_type": "stream",
          "name": "stdout",
          "text": [
            "AGK29621.1, AHG32084.1, 6G2J_H, YP_002791042.1, AGK29634.1\n",
            "0806162F, YP_009112408.1, YP_001876469.1, YP_009092269.1, AHG32149.1\n",
            "YP_009092074.1, YP_009450474.1, YP_004123270.1, YP_009092073.1, AHZ60901.1\n",
            "YP_004123350.1, YP_009453754.1, ADD46492.1, YP_007025968.1, YP_009453806.1\n",
            "YP_007024956.1, ASM92364.1, YP_006073044.1, ASM92494.1, ADG95699.1\n",
            "YP_004891275.1, YP_009166014.1, YP_009538416.1, YP_009414182.1, YP_009178854.1\n",
            "YP_009414415.1, YP_009353908.1, YP_009093743.1, ABX45285.1, YP_009414156.1\n",
            "YP_009414363.1\n"
          ]
        }
      ],
      "source": [
        "\n",
        "df.drop(columns=[\"query acc.ver\"], inplace=True)\n",
        "df.set_index('subject acc.ver', inplace=True)\n",
        "\n",
        "#I seriously keep having issue with inplace, Im not sure why\n",
        "#i already filter clean.\n",
        "#error query acc\n",
        "df['bonds'] = pd.to_numeric(df['bonds'].str.replace(',', ''), errors='coerce')\n",
        "high_bonds = df[df['bonds'] > 15000].index.tolist()\n",
        "for i in range(0, len(high_bonds), 5):\n",
        "    print(', '.join(high_bonds[i:i+5]))\n"
      ]
    },
    {
      "cell_type": "markdown",
      "metadata": {
        "id": "H56QTFYU3r6l"
      },
      "source": [
        "### Question 4\n",
        "Create a plot that shows the correlation between `% identity` and `% positives`."
      ]
    },
    {
      "cell_type": "code",
      "execution_count": 54,
      "metadata": {
        "id": "YD3IBzmG3r6l",
        "colab": {
          "base_uri": "https://localhost:8080/",
          "height": 472
        },
        "outputId": "bbe3fbc2-5293-4faf-91f5-138990018858"
      },
      "outputs": [
        {
          "output_type": "display_data",
          "data": {
            "text/plain": [
              "<Figure size 640x480 with 1 Axes>"
            ],
            "image/png": "[encoded data removed]"
          },
          "metadata": {}
        }
      ],
      "source": [
        "\n",
        "\n",
        "sns.regplot(data=df, x='% identity', y='% positives', scatter_kws={'s':50}, color='teal')\n",
        "\n",
        "plt.title('between % identity and % positives')\n",
        "plt.xlabel('% Identity')\n",
        "plt.ylabel('% Positives')\n",
        "plt.show()\n"
      ]
    },
    {
      "cell_type": "markdown",
      "metadata": {
        "id": "pEUJxhad3r6m"
      },
      "source": [
        "### Question  5\n",
        "Add a column `Protein source` to the dataframe from Question 1 based on the data in this csv file: https://raw.githubusercontent.com/csbfx/advpy122-data/master/protein_source.csv. Merge the data when the `subject acc.ver` from the dataframe equals to `Protein` in the csv file. Entries without a matching protein will have `NA` as `Protein source`."
      ]
    },
    {
      "cell_type": "code",
      "execution_count": 65,
      "metadata": {
        "id": "xzIwyECv3r6m",
        "colab": {
          "base_uri": "https://localhost:8080/"
        },
        "outputId": "3ab40d38-d1c4-402d-949a-78f68a3e6b36"
      },
      "outputs": [
        {
          "output_type": "stream",
          "name": "stdout",
          "text": [
            "     % identity  alignment length  mismatches  gap opens  q. start  q. end  \\\n",
            "0.0     100.000               318           0          0         1     318   \n",
            "NaN      99.686               318           1          0         1     318   \n",
            "1.0      99.686               318           1          0         1     318   \n",
            "NaN      99.686               318           1          0         1     318   \n",
            "NaN      99.371               318           2          0         1     318   \n",
            "\n",
            "     s. start  s. end  evalue  bit score  % positives  bonds  publications  \\\n",
            "0.0         1     318       0        629       100.00   1487           9.0   \n",
            "NaN         1     318       0        629       100.00  17947          47.0   \n",
            "1.0         1     318       0        627       100.00  12106          13.0   \n",
            "NaN         1     318       0        627        99.69   2319          41.0   \n",
            "NaN         1     318       0        627       100.00  18964           3.0   \n",
            "\n",
            "         Protein   Source   Source  \n",
            "0.0  NP_904328.1   RefSeq   RefSeq  \n",
            "NaN   AGK29621.1      NaN       NA  \n",
            "1.0  YP_220563.1  GenPept  GenPept  \n",
            "NaN   ACM24502.1      NaN       NA  \n",
            "NaN   AHG32084.1      NaN       NA  \n"
          ]
        }
      ],
      "source": [
        "import pandas as pd\n",
        "\n",
        "protein = pd.read_csv('https://raw.githubusercontent.com/csbfx/advpy122-data/master/protein_source.csv')\n",
        "protein.drop(columns='Unnamed: 0', inplace=True)\n",
        "\n",
        "blast_merge = blast.merge(protein.drop_duplicates(subset=['Protein']), left_index=True, right_on=\"Protein\", how=\"left\")\n",
        "blast_merge['  Source'] = blast_merge['Source'].fillna('NA')\n",
        "\n",
        "print(blast_merge.head())\n"
      ]
    },
    {
      "cell_type": "code",
      "source": [],
      "metadata": {
        "id": "AN7DYlAvezUb"
      },
      "execution_count": null,
      "outputs": []
    },
    {
      "cell_type": "code",
      "source": [],
      "metadata": {
        "id": "vp-opFsCezpj"
      },
      "execution_count": null,
      "outputs": []
    },
    {
      "cell_type": "code",
      "source": [],
      "metadata": {
        "id": "7xPthikmez9E"
      },
      "execution_count": null,
      "outputs": []
    }
  ],
  "metadata": {
    "kernelspec": {
      "display_name": "Python 3",
      "language": "python",
      "name": "python3"
    },
    "language_info": {
      "codemirror_mode": {
        "name": "ipython",
        "version": 3
      },
      "file_extension": ".py",
      "mimetype": "text/x-python",
      "name": "python",
      "nbconvert_exporter": "python",
      "pygments_lexer": "ipython3",
      "version": "3.7.6"
    },
    "colab": {
      "provenance": []
    }
  },
  "nbformat": 4,
  "nbformat_minor": 0
}